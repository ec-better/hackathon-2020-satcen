{
 "cells": [
  {
   "cell_type": "markdown",
   "metadata": {},
   "source": [
    "# Amplitude Change Detection - ACD\n",
    "\n",
    "Look for change detection by using the changes in the amplitude/backscatter of a pair of images at different dates.\n",
    "Examples: \n",
    "* new building: before low backscatter, after high backscatter\n",
    "* Flooding: decrease of backscatter because of very low backscatter of water bodies\n",
    "* Burned Area: depending of the vegetation characteristics, it could be are increase or decrease of backscatter"
   ]
  },
  {
   "cell_type": "markdown",
   "metadata": {},
   "source": [
    "# Changes example in Amazonas - Brasil\n",
    "\n",
    "Time series of images available in https://store.terradue.com/nextgeoss-change-detection-s1/s1Burned/ for fire monitoring.\n",
    "\n",
    "Every geotiff file has three bands:\n",
    "* Backscatter at date 1\n",
    "* Backscatter at date 2\n",
    "* Coherence date 1 - date 2 (will be explained later?)\n",
    "\n",
    "In this kind of vegetation, it is possible to see a decrease of backscatter of the burned area with respect to the not burned.\n",
    "In the examples, the rivers have a very low backscatter. The areas without vegetation has a lower backscatter than the vegetated ones.\n",
    "\n",
    "![image.png](attachment:a91b4d5d-db80-46f3-897d-106cad92df9e.png)"
   ]
  },
  {
   "cell_type": "code",
   "execution_count": null,
   "metadata": {},
   "outputs": [],
   "source": [
    "import rasterio\n",
    "import matplotlib.pyplot as plt\n",
    "import numpy as np\n",
    "%matplotlib inline\n",
    "from helpers import *"
   ]
  },
  {
   "cell_type": "code",
   "execution_count": null,
   "metadata": {},
   "outputs": [],
   "source": [
    "s1Burned1= 'https://store.terradue.com/nextgeoss-change-detection-s1/s1Burned/CCD_20200621T091832_20200703T091832.tif'\n",
    "s1Burned2= 'https://store.terradue.com/nextgeoss-change-detection-s1/s1Burned/CCD_20200715T091833_20200727T091834.tif'\n",
    "s1Burned3= 'https://store.terradue.com/nextgeoss-change-detection-s1/s1Burned/CCD_20200808T091834_20200820T091835.tif'\n",
    "s1Burned4= 'https://store.terradue.com/nextgeoss-change-detection-s1/s1Burned/CCD_20200901T091836_20200913T091836.tif'\n",
    "aoi_bbox = '-56.6,-16.95,-56.4,-16.5'\n",
    "aoi = [float(coord) for coord in aoi_bbox.split(',')]\n",
    "img_data1 = vsi_download(s1Burned1, aoi)\n",
    "img_data3 = vsi_download(s1Burned3, aoi)\n",
    "layers = []\n",
    "layers.append(img_data1[:,:,0])\n",
    "layers.append(img_data3[:,:,1])\n",
    "image = np.dstack(layers)\n",
    "plot_bands_row(image,vmin=0,vmax=0.5)"
   ]
  },
  {
   "cell_type": "markdown",
   "metadata": {},
   "source": [
    "# Changes example in Charpiya\n",
    "\n",
    "Time series of images available in /data for monitoring of refugee camp construction and flooding\n",
    "\n",
    "Every geotiff file has one band."
   ]
  },
  {
   "cell_type": "code",
   "execution_count": null,
   "metadata": {},
   "outputs": [],
   "source": [
    "charp_data1=load_image('data/backscatterCharpiya20171220.tif')\n",
    "charp_data2=load_image('data/backscatterCharpiya20180910.tif')\n",
    "layers = []\n",
    "layers.append(charp_data1)\n",
    "layers.append(charp_data2)\n",
    "image = np.dstack(layers)\n",
    "plot_bands_row(image,vmin=0,vmax=0.5)"
   ]
  },
  {
   "cell_type": "markdown",
   "metadata": {},
   "source": [
    "# Changes example in Niamey\n",
    "\n",
    "Time series of images available in /data \n",
    "\n",
    "Every geotiff file has one band (byte)."
   ]
  },
  {
   "cell_type": "code",
   "execution_count": null,
   "metadata": {},
   "outputs": [],
   "source": [
    "img_data1=load_image('data/backscatterNiamey20180130.tif')\n",
    "img_data2=load_image('data/backscatterNiamey20180611.tif')\n",
    "img_data3=load_image('data/backscatterNiamey20180927.tif')\n",
    "#testScatter(img_data1.flatten(),img_data2.flatten())\n",
    "layers = []\n",
    "layers.append(img_data1)\n",
    "layers.append(img_data2)\n",
    "layers.append(img_data3)\n",
    "image = np.dstack(layers)\n",
    "plot_bands_row(image)"
   ]
  },
  {
   "cell_type": "markdown",
   "metadata": {},
   "source": [
    "TODO - add rgb image niamey airport\n"
   ]
  }
 ],
 "metadata": {
  "kernelspec": {
   "display_name": "better",
   "language": "python",
   "name": "better"
  },
  "language_info": {
   "codemirror_mode": {
    "name": "ipython",
    "version": 3
   },
   "file_extension": ".py",
   "mimetype": "text/x-python",
   "name": "python",
   "nbconvert_exporter": "python",
   "pygments_lexer": "ipython3",
   "version": "3.7.8"
  }
 },
 "nbformat": 4,
 "nbformat_minor": 4
}

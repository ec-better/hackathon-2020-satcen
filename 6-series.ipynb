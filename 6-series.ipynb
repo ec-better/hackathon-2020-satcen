{
 "cells": [
  {
   "cell_type": "code",
   "execution_count": null,
   "metadata": {},
   "outputs": [],
   "source": [
    "\n"
   ]
  },
  {
   "cell_type": "code",
   "execution_count": 1,
   "metadata": {},
   "outputs": [
    {
     "name": "stdout",
     "output_type": "stream",
     "text": [
      "Requirement already satisfied: folium in /opt/anaconda/envs/env_better/lib/python3.7/site-packages (0.11.0)\n",
      "Requirement already satisfied: shapely in /opt/anaconda/envs/env_better/lib/python3.7/site-packages (1.7.1)\n",
      "Requirement already satisfied: rasterio in /opt/anaconda/envs/env_better/lib/python3.7/site-packages (1.1.7)\n",
      "Collecting bs4\n",
      "  Downloading bs4-0.0.1.tar.gz (1.1 kB)\n",
      "Requirement already satisfied: tqdm in /opt/anaconda/envs/env_better/lib/python3.7/site-packages (4.50.2)\n",
      "Requirement already satisfied: branca>=0.3.0 in /opt/anaconda/envs/env_better/lib/python3.7/site-packages (from folium) (0.4.1)\n",
      "Requirement already satisfied: numpy in /opt/anaconda/envs/env_better/lib/python3.7/site-packages (from folium) (1.19.2)\n",
      "Requirement already satisfied: jinja2>=2.9 in /opt/anaconda/envs/env_better/lib/python3.7/site-packages (from folium) (2.11.2)\n",
      "Requirement already satisfied: requests in /opt/anaconda/envs/env_better/lib/python3.7/site-packages (from folium) (2.24.0)\n",
      "Requirement already satisfied: cligj>=0.5 in /opt/anaconda/envs/env_better/lib/python3.7/site-packages (from rasterio) (0.6.0)\n",
      "Requirement already satisfied: affine in /opt/anaconda/envs/env_better/lib/python3.7/site-packages (from rasterio) (2.3.0)\n",
      "Requirement already satisfied: attrs in /opt/anaconda/envs/env_better/lib/python3.7/site-packages (from rasterio) (20.2.0)\n",
      "Requirement already satisfied: click-plugins in /opt/anaconda/envs/env_better/lib/python3.7/site-packages (from rasterio) (1.1.1)\n",
      "Requirement already satisfied: click<8,>=4.0 in /opt/anaconda/envs/env_better/lib/python3.7/site-packages (from rasterio) (7.1.2)\n",
      "Requirement already satisfied: snuggs>=1.4.1 in /opt/anaconda/envs/env_better/lib/python3.7/site-packages (from rasterio) (1.4.7)\n",
      "Collecting beautifulsoup4\n",
      "  Downloading beautifulsoup4-4.9.3-py3-none-any.whl (115 kB)\n",
      "\u001b[K     |████████████████████████████████| 115 kB 3.4 MB/s eta 0:00:01\n",
      "\u001b[?25hRequirement already satisfied: MarkupSafe>=0.23 in /opt/anaconda/envs/env_better/lib/python3.7/site-packages (from jinja2>=2.9->folium) (1.1.1)\n",
      "Requirement already satisfied: idna<3,>=2.5 in /opt/anaconda/envs/env_better/lib/python3.7/site-packages (from requests->folium) (2.10)\n",
      "Requirement already satisfied: chardet<4,>=3.0.2 in /opt/anaconda/envs/env_better/lib/python3.7/site-packages (from requests->folium) (3.0.4)\n",
      "Requirement already satisfied: urllib3!=1.25.0,!=1.25.1,<1.26,>=1.21.1 in /opt/anaconda/envs/env_better/lib/python3.7/site-packages (from requests->folium) (1.25.11)\n",
      "Requirement already satisfied: certifi>=2017.4.17 in /opt/anaconda/envs/env_better/lib/python3.7/site-packages (from requests->folium) (2020.6.20)\n",
      "Requirement already satisfied: pyparsing>=2.1.6 in /opt/anaconda/envs/env_better/lib/python3.7/site-packages (from snuggs>=1.4.1->rasterio) (2.4.7)\n",
      "Collecting soupsieve>1.2; python_version >= \"3.0\"\n",
      "  Downloading soupsieve-2.0.1-py3-none-any.whl (32 kB)\n",
      "Building wheels for collected packages: bs4\n",
      "  Building wheel for bs4 (setup.py) ... \u001b[?25ldone\n",
      "\u001b[?25h  Created wheel for bs4: filename=bs4-0.0.1-py3-none-any.whl size=1273 sha256=468d29dbd5e2015e8353f22a0e09a4ec6d974e5ec183977c28df7ec5197805ca\n",
      "  Stored in directory: /home/jovyan/.cache/pip/wheels/0a/9e/ba/20e5bbc1afef3a491f0b3bb74d508f99403aabe76eda2167ca\n",
      "Successfully built bs4\n",
      "Installing collected packages: soupsieve, beautifulsoup4, bs4\n",
      "Successfully installed beautifulsoup4-4.9.3 bs4-0.0.1 soupsieve-2.0.1\n"
     ]
    }
   ],
   "source": [
    "!/opt/anaconda/envs/env_better/bin/pip3 install folium shapely rasterio bs4 tqdm"
   ]
  },
  {
   "cell_type": "code",
   "execution_count": 2,
   "metadata": {},
   "outputs": [],
   "source": [
    "import rasterio\n",
    "import rasterio.mask\n",
    "import requests\n",
    "import fiona"
   ]
  },
  {
   "cell_type": "code",
   "execution_count": 4,
   "metadata": {},
   "outputs": [
    {
     "name": "stderr",
     "output_type": "stream",
     "text": [
      "100%|██████████| 19/19 [02:58<00:00,  9.42s/it]\n"
     ]
    }
   ],
   "source": [
    "from bs4 import BeautifulSoup\n",
    "import requests\n",
    "from shapely.geometry import shape\n",
    "from tqdm import tqdm\n",
    "\n",
    "url_charpiya = 'https://store.terradue.com/nextgeoss-change-detection-s1/charpiya/'\n",
    "url_amazon = 'https://store.terradue.com/nextgeoss-change-detection-s1/s1Burned/'\n",
    "center_charpiya = [22.38, 91.4]\n",
    "\n",
    "url = url_charpiya \n",
    "center = center_charpiya \n",
    "\n",
    "ext = 'tif'\n",
    "\n",
    "def listFD(url, ext=''):\n",
    "    page = requests.get(url).text\n",
    "    soup = BeautifulSoup(page, 'html.parser')\n",
    "    return [url + '/' + node.get('href') for node in soup.find_all('a') if node.get('href').endswith(ext)]\n",
    "\n",
    "vector_fn = 'data/InsideCharpiya.shp'\n",
    "\n",
    "with fiona.open(vector_fn, 'r') as shapefile:\n",
    "    shapes = [feature['geometry'] for feature in shapefile]\n",
    "\n",
    "masked_images = list()\n",
    "dates = list()\n",
    "\n",
    "with tqdm(total=19) as pbar:\n",
    "    for file in listFD(url, ext):\n",
    "        dates.append(file)\n",
    "        with rasterio.open(file) as src:\n",
    "            masked_data, masked_transform = rasterio.mask.mask(src, shapes, crop=True) \n",
    "            masked_meta = src.meta\n",
    "            bbox = shape(shapes[0]).bounds\n",
    "            img = masked_data[0]\n",
    "            masked_images.append(img)\n",
    "            pbar.update(1)\n",
    "            \n"
   ]
  },
  {
   "cell_type": "code",
   "execution_count": 5,
   "metadata": {},
   "outputs": [
    {
     "name": "stderr",
     "output_type": "stream",
     "text": [
      "MovieWriter imagemagick unavailable; using Pillow instead.\n"
     ]
    }
   ],
   "source": [
    "from matplotlib.animation import FuncAnimation\n",
    "import matplotlib.pyplot as plt\n",
    "import numpy as np\n",
    "from helpers import *\n",
    "\n",
    "fig, ax = plt.subplots(figsize=(10, 25))\n",
    "\n",
    "def update(i):\n",
    "    im_normed = convert2byte(masked_images[i-1],0,1)\n",
    "    ax.imshow(im_normed, cmap='gray')\n",
    "    ax.set_title(\"{}\".format(dates[i].rsplit('/',1)[-1]), fontsize=12)\n",
    "    ax.set_axis_off()\n",
    "\n",
    "\n",
    "anim = FuncAnimation(fig, update, frames=np.arange(0, 19), interval=500)\n",
    "anim.save('test.gif', dpi=80, writer='imagemagick')\n",
    "plt.close()"
   ]
  },
  {
   "cell_type": "code",
   "execution_count": 6,
   "metadata": {},
   "outputs": [
    {
     "data": {
      "text/html": [
       "<img src=\"test.gif\" />\n"
      ],
      "text/plain": [
       "<IPython.core.display.HTML object>"
      ]
     },
     "metadata": {},
     "output_type": "display_data"
    }
   ],
   "source": [
    "%%html\n",
    "<img src=\"test.gif\" />"
   ]
  },
  {
   "cell_type": "code",
   "execution_count": null,
   "metadata": {},
   "outputs": [],
   "source": []
  }
 ],
 "metadata": {
  "kernelspec": {
   "display_name": "better",
   "language": "python",
   "name": "better"
  },
  "language_info": {
   "codemirror_mode": {
    "name": "ipython",
    "version": 3
   },
   "file_extension": ".py",
   "mimetype": "text/x-python",
   "name": "python",
   "nbconvert_exporter": "python",
   "pygments_lexer": "ipython3",
   "version": "3.7.8"
  }
 },
 "nbformat": 4,
 "nbformat_minor": 4
}

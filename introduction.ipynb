{
 "cells": [
  {
   "cell_type": "markdown",
   "metadata": {},
   "source": [
    "# Exercise 1:\n",
    "\n",
    "The notebook will guide through some basic details of Sentinel-1 and Sentinel-2 data:\n",
    "\n",
    "    * Different sensor characteristics\n",
    "    * How to search and preview data\n",
    "    * Main aspects to consider when dealing with Sentinel-1 data"
   ]
  },
  {
   "cell_type": "markdown",
   "metadata": {},
   "source": [
    "# Sentinel-1 and Sentinel-2\n",
    "\n",
    "Free and Open Data Policy: [scihub](https://scihub.copernicus.eu/)\n",
    "\n",
    "## [Sentinel-1](https://en.wikipedia.org/wiki/Sentinel-1)\n",
    "\n",
    "* A constellation of two satellites, Sentinel-1A and Sentinel-1B\n",
    "* C-band synthetic-aperture radar (SAR)\n",
    "* Collection of data in all-weather, day or night\n",
    "* Spatial resolution of down to 5 m and a swath of up to 400 km\n",
    "* Sun synchronous, near-polar (98.18°) orbit\n",
    "* The orbit has a 12-day repeat cycle\n",
    "\n",
    "## [Sentinel-2](https://en.wikipedia.org/wiki/Sentinel-2)\n",
    "\n",
    "* A constallation of two twin satellites, Sentinel-2A and Sentinel-2B\n",
    "* Multi-spectral data with 13 bands in the visible, near infrared, and short wave infrared part of the spectrum\n",
    "* Systematic global coverage of land surfaces from 56° S to 84° N, coastal waters, and all of the Mediterranean Sea\n",
    "* High spatial resolution (10 m to 60 m). 290 km field of view\n",
    "* The orbit is Sun synchronous at 786 km (488 mi) altitude\n",
    "* Revisiting every 10 days under the same viewing angles. At high latitudes, Sentinel-2 swath overlap and some regions will be observed twice or more every 10 days, but with different viewing angles"
   ]
  },
  {
   "cell_type": "markdown",
   "metadata": {},
   "source": [
    "## Example Searching and previewing a Sentinel-1 and Sentinel-2 image\n",
    "\n",
    "Installing some libraries to interact with ESA Scihub"
   ]
  },
  {
   "cell_type": "code",
   "execution_count": null,
   "metadata": {},
   "outputs": [],
   "source": [
    "!/opt/anaconda/envs/env_better/bin/pip3 install sentinelsat folium shapely"
   ]
  },
  {
   "cell_type": "markdown",
   "metadata": {},
   "source": [
    "### Defining a certain area of interest "
   ]
  },
  {
   "cell_type": "code",
   "execution_count": null,
   "metadata": {},
   "outputs": [],
   "source": [
    "import folium\n",
    "from sentinelsat import SentinelAPI\n",
    "import shapely.wkt\n",
    "import pandas as pd\n",
    "import geopandas\n",
    "\n",
    "wkt = 'POLYGON((-4.430811972177363 36.69549864402423,-4.399230541551978 36.69549864402423,-4.399230541551978 36.72132011062699,-4.430811972177363 36.72132011062699,-4.430811972177363 36.69549864402423))'\n",
    "geojson = shapely.wkt.loads(wkt)\n",
    "\n",
    "m = folium.Map([36.69, -4.4], zoom_start=13)\n",
    "folium.GeoJson(geojson, name='AOI').add_to(m)\n",
    "folium.LayerControl().add_to(m)\n",
    "m"
   ]
  },
  {
   "cell_type": "markdown",
   "metadata": {},
   "source": [
    "The Scihub service needs credentials to access to the data, but an account can be created for free --> [Scihub](https://scihub.copernicus.eu/)"
   ]
  },
  {
   "cell_type": "code",
   "execution_count": null,
   "metadata": {},
   "outputs": [],
   "source": [
    "import getpass\n",
    "\n",
    "user = 'obarrile'\n",
    "password = getpass.getpass() "
   ]
  },
  {
   "cell_type": "code",
   "execution_count": null,
   "metadata": {},
   "outputs": [],
   "source": []
  },
  {
   "cell_type": "code",
   "execution_count": null,
   "metadata": {},
   "outputs": [],
   "source": [
    "api = SentinelAPI(user, password, 'https://scihub.copernicus.eu/dhus')\n",
    "dates = ('20201014', '20201018')\n",
    "productsS2 = api.query(wkt,\n",
    "                     date = dates,\n",
    "                     platformname = 'Sentinel-2',\n",
    "                     processinglevel = 'Level-2A',\n",
    "                     cloudcoverpercentage = (0, 20))\n",
    "\n",
    "productsS1 = api.query(wkt,\n",
    "                     date = dates,\n",
    "                     platformname = 'Sentinel-1',\n",
    "                     producttype = 'GRD')\n",
    "\n",
    "\n",
    "\n",
    "S2_data = api.to_geojson(productsS2)\n",
    "S2_gdf = api.to_geodataframe(productsS2)\n",
    "S1_data = api.to_geojson(productsS1)\n",
    "S1_gdf = api.to_geodataframe(productsS1)\n",
    "products_gdf = pd.concat([S1_gdf, S2_gdf])\n",
    "products_gdf"
   ]
  },
  {
   "cell_type": "markdown",
   "metadata": {},
   "source": [
    "Display the locations of returned results in the map"
   ]
  },
  {
   "cell_type": "code",
   "execution_count": null,
   "metadata": {},
   "outputs": [],
   "source": [
    "style_me = lambda feature: {\n",
    "        'fillOpacity': 0.3,\n",
    "        'weight': 1,\n",
    "        'fillColor': '#FF0000' if 'S2' in feature['properties']['title'] else '#00FF00'\n",
    "    }\n",
    "\n",
    "\n",
    "m = folium.Map([36.69, -4.4], zoom_start=8)\n",
    "folium.GeoJson(geojson, name='AOI').add_to(m)\n",
    "s1_folium = folium.GeoJson(data = S1_gdf[['geometry','title','link_icon']], \n",
    "               style_function = style_me,\n",
    "               name = 'Sentinel-1 products',\n",
    "               ).add_to(m)\n",
    "s2_folium = folium.GeoJson(data = S2_gdf[['geometry','title','link_icon']], \n",
    "               style_function = style_me,\n",
    "               name='Sentinel-2 products',\n",
    "               ).add_to(m)\n",
    "\n",
    "folium.LayerControl().add_to(m)\n",
    "m"
   ]
  },
  {
   "cell_type": "markdown",
   "metadata": {},
   "source": [
    "Filter only products at a specific date"
   ]
  },
  {
   "cell_type": "code",
   "execution_count": null,
   "metadata": {},
   "outputs": [],
   "source": [
    "import datetime\n",
    "\n",
    "date_of_interest = '15-10-2020'\n",
    "\n",
    "filtered_gdf = products_gdf[products_gdf['beginposition'].apply( lambda d: d.date() == datetime.datetime.strptime(date_of_interest,'%d-%m-%Y').date())]\n",
    "filtered_gdf"
   ]
  },
  {
   "cell_type": "markdown",
   "metadata": {},
   "source": [
    "Display the quicklooks in the map to compare the differences"
   ]
  },
  {
   "cell_type": "code",
   "execution_count": null,
   "metadata": {},
   "outputs": [],
   "source": [
    "import io\n",
    "import requests\n",
    "import numpy as np\n",
    "from scipy.ndimage import rotate\n",
    "from requests.auth import HTTPBasicAuth\n",
    "from PIL import Image\n",
    "\n",
    "m = folium.Map([36.69, -4.4], zoom_start=8)\n",
    "\n",
    "for i, row in filtered_gdf.iterrows():\n",
    "    quicklook_query = requests.get(row['link_icon'], auth=HTTPBasicAuth(user,password))\n",
    "    img_data = np.asarray(Image.open(io.BytesIO(quicklook_query.content)))\n",
    "    #print(img_data)\n",
    "    bounds = row['geometry'].bounds\n",
    "    img = folium.raster_layers.ImageOverlay(\n",
    "        name=row['title'],\n",
    "        # FIXME: This is just an example for visualization purposes, \n",
    "        #        it does not generalise to all acquisitions\n",
    "        image=img_data if 'S2' in row['title'] else rotate(img_data, -10, reshape=True), \n",
    "        bounds=[[bounds[1], bounds[0]], [bounds[3], bounds[2]]],\n",
    "        opacity=0.5)\n",
    "    #print(row['geometry'].bounds)\n",
    "    img.add_to(m)\n",
    "    \n",
    "\n",
    "folium.GeoJson(geojson, name='AOI').add_to(m)\n",
    "folium.LayerControl().add_to(m)\n",
    "m\n",
    "    "
   ]
  },
  {
   "cell_type": "markdown",
   "metadata": {},
   "source": [
    "## Optical image example\n",
    "\n",
    "TODO: Show a couple of png examples of different areas"
   ]
  },
  {
   "cell_type": "markdown",
   "metadata": {},
   "source": [
    "## Proposed Exercise:\n",
    "\n",
    "   * [ ] Create an account in Scihub\n",
    "   * [ ] Browse the documentation of [sentinelsat library](https://sentinelsat.readthedocs.io/en/stable/)\n",
    "   * [ ] Search for a Sentinel-2 L2A scene on your Area\n",
    "   * [ ] Visualize the preview"
   ]
  },
  {
   "cell_type": "code",
   "execution_count": null,
   "metadata": {},
   "outputs": [],
   "source": []
  }
 ],
 "metadata": {
  "kernelspec": {
   "display_name": "better",
   "language": "python",
   "name": "better"
  },
  "language_info": {
   "codemirror_mode": {
    "name": "ipython",
    "version": 3
   },
   "file_extension": ".py",
   "mimetype": "text/x-python",
   "name": "python",
   "nbconvert_exporter": "python",
   "pygments_lexer": "ipython3",
   "version": "3.7.8"
  }
 },
 "nbformat": 4,
 "nbformat_minor": 4
}
